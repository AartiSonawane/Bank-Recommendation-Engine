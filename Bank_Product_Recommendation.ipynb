{
 "cells": [
  {
   "cell_type": "code",
   "execution_count": 1,
   "metadata": {},
   "outputs": [
    {
     "name": "stdout",
     "output_type": "stream",
     "text": [
      "Populating the interactive namespace from numpy and matplotlib\n"
     ]
    }
   ],
   "source": [
    "import pandas as pd\n",
    "import numpy as np\n",
    "\n",
    "import matplotlib.pyplot as plt\n",
    "%pylab inline\n",
    "#%pylab is a magic function in ipython.Magic functions in pylab always begin with the percent sign (%) followed without any spaces by a small text string; in essence, ipython magic functions define shortcuts particularly useful for interactive work\n",
    "import itertools\n",
    "#itertools — Functions creating iterators for efficient looping"
   ]
  },
  {
   "cell_type": "code",
   "execution_count": 2,
   "metadata": {},
   "outputs": [
    {
     "name": "stderr",
     "output_type": "stream",
     "text": [
      "C:\\Users\\Pankaj\\Anaconda3\\lib\\site-packages\\IPython\\core\\interactiveshell.py:2785: DtypeWarning: Columns (5,8,11,15) have mixed types. Specify dtype option on import or set low_memory=False.\n",
      "  interactivity=interactivity, compiler=compiler, result=result)\n"
     ]
    }
   ],
   "source": [
    "df=pd.read_csv('C:/Users/Pankaj/Downloads/train_ver2.csv',parse_dates= True)"
   ]
  },
  {
   "cell_type": "code",
   "execution_count": 3,
   "metadata": {},
   "outputs": [
    {
     "data": {
      "text/plain": [
       "Index(['fecha_dato', 'ncodpers', 'ind_empleado', 'pais_residencia', 'sexo',\n",
       "       'age', 'fecha_alta', 'ind_nuevo', 'antiguedad', 'indrel',\n",
       "       'ult_fec_cli_1t', 'indrel_1mes', 'tiprel_1mes', 'indresi', 'indext',\n",
       "       'conyuemp', 'canal_entrada', 'indfall', 'tipodom', 'cod_prov',\n",
       "       'nomprov', 'ind_actividad_cliente', 'renta', 'segmento',\n",
       "       'ind_ahor_fin_ult1', 'ind_aval_fin_ult1', 'ind_cco_fin_ult1',\n",
       "       'ind_cder_fin_ult1', 'ind_cno_fin_ult1', 'ind_ctju_fin_ult1',\n",
       "       'ind_ctma_fin_ult1', 'ind_ctop_fin_ult1', 'ind_ctpp_fin_ult1',\n",
       "       'ind_deco_fin_ult1', 'ind_deme_fin_ult1', 'ind_dela_fin_ult1',\n",
       "       'ind_ecue_fin_ult1', 'ind_fond_fin_ult1', 'ind_hip_fin_ult1',\n",
       "       'ind_plan_fin_ult1', 'ind_pres_fin_ult1', 'ind_reca_fin_ult1',\n",
       "       'ind_tjcr_fin_ult1', 'ind_valo_fin_ult1', 'ind_viv_fin_ult1',\n",
       "       'ind_nomina_ult1', 'ind_nom_pens_ult1', 'ind_recibo_ult1'],\n",
       "      dtype='object')"
      ]
     },
     "execution_count": 3,
     "metadata": {},
     "output_type": "execute_result"
    }
   ],
   "source": [
    "df.columns"
   ]
  },
  {
   "cell_type": "code",
   "execution_count": 4,
   "metadata": {},
   "outputs": [],
   "source": [
    "df=df.rename(columns={'fecha_dato':'Partition_Column',\n",
    "'ncodpers':'Customer_code',\n",
    "'ind_empleado':'Employee_index',\n",
    "'pais_residencia':'Country_residence',\n",
    "'sexo':'Customer_ sex',\n",
    "'age':'Age',\n",
    "'fecha_alta':'Account_Opening_Date',\n",
    "'ind_nuevo':'Customer<6_months',\n",
    "'antiguedad':'Customer_seniority',\n",
    "'indrel':'1_99_Prime_Mo_S_E',\n",
    "'ult_fec_cli_1t':'Last_Dt_prime_cust',\n",
    "'indrel_1mes':'Cust_type_beg_mon',\n",
    "'tiprel_1mes':'Cust_rel_type_beg_mon', \n",
    "'indresi':'Residence_index', \n",
    "'indext':'Foreigner_index', \n",
    "'conyuemp':'Spouse_emp_index',\n",
    "'canal_entrada':'channel_to_join',\n",
    "'indfall':'Deceased_index',\n",
    "'tipodom':'Addres type',\n",
    "'cod_prov':'Province_code',\n",
    "'nomprov':'Province_name',\n",
    "'ind_actividad_cliente':'Activity_index',\n",
    "'renta':'Gross_income_household',\n",
    "'segmento':'segmentation',\n",
    "'ind_ahor_fin_ult1':'Saving_Account',\n",
    "'ind_aval_fin_ult1':'Guarantees',\n",
    "'ind_cco_fin_ult1':'Current_Accounts',\n",
    "'ind_cder_fin_ult1':'Derivada_Account',\n",
    "'ind_cno_fin_ult1':'Payroll_Account',\n",
    "'ind_ctju_fin_ult1':'Junior_Account',\n",
    "'ind_ctma_fin_ult1':'Más_particular_Account',\n",
    "'ind_ctop_fin_ult1':'particular_Account',\n",
    "'ind_ctpp_fin_ult1':'particular_Plus_Account',\n",
    "'ind_deco_fin_ult1':'Short_term_depos',\n",
    "'ind_deme_fin_ult1':'Medium_term_depos',\n",
    "'ind_dela_fin_ult1':'Long_term_depos',\n",
    "'ind_ecue_fin_ult1':'e-account',\n",
    "'ind_fond_fin_ult1':'Funds',\n",
    "'ind_hip_fin_ult1':'Mortgage',\n",
    "'ind_plan_fin_ult1':'Pensions_1',\n",
    "'ind_pres_fin_ult1':'Loans',\n",
    "'ind_reca_fin_ult1':'Taxes',\n",
    "'ind_tjcr_fin_ult1':'Credit_Card',\n",
    "'ind_valo_fin_ult1':'Securities',\n",
    "'ind_viv_fin_ult1':'Home_Account',\n",
    "'ind_nomina_ult1':'Payroll',\n",
    "'ind_nom_pens_ult1':'Pensions_2',\n",
    "'ind_recibo_ult1':'Direct_Debit'})"
   ]
  },
  {
   "cell_type": "code",
   "execution_count": 5,
   "metadata": {},
   "outputs": [],
   "source": [
    "df['Partition_Column']=pd.to_datetime(df['Partition_Column'])\n",
    "df['Last_Dt_prime_cust']=pd.to_datetime(df['Last_Dt_prime_cust'])\n",
    "df['Account_Opening_Date']=pd.to_datetime(df['Account_Opening_Date'])"
   ]
  },
  {
   "cell_type": "code",
   "execution_count": 6,
   "metadata": {},
   "outputs": [
    {
     "name": "stderr",
     "output_type": "stream",
     "text": [
      "C:\\Users\\Pankaj\\Anaconda3\\lib\\site-packages\\ipykernel_launcher.py:1: DeprecationWarning: \n",
      ".ix is deprecated. Please use\n",
      ".loc for label based indexing or\n",
      ".iloc for positional indexing\n",
      "\n",
      "See the documentation here:\n",
      "http://pandas.pydata.org/pandas-docs/stable/indexing.html#ix-indexer-is-deprecated\n",
      "  \"\"\"Entry point for launching an IPython kernel.\n"
     ]
    }
   ],
   "source": [
    "df['Total_products']=df.ix[:,24:48].sum(axis=1,skipna=True)"
   ]
  },
  {
   "cell_type": "code",
   "execution_count": 7,
   "metadata": {},
   "outputs": [
    {
     "data": {
      "text/plain": [
       "1.0     442835\n",
       "0.0     225483\n",
       "2.0     131867\n",
       "3.0      56619\n",
       "4.0      37563\n",
       "5.0      22556\n",
       "6.0      16401\n",
       "7.0      11572\n",
       "8.0       6682\n",
       "9.0       3196\n",
       "10.0      1251\n",
       "11.0       472\n",
       "12.0       109\n",
       "13.0        34\n",
       "14.0         4\n",
       "15.0         1\n",
       "Name: Total_products, dtype: int64"
      ]
     },
     "execution_count": 7,
     "metadata": {},
     "output_type": "execute_result"
    }
   ],
   "source": [
    "df.groupby('Customer_code')['Total_products'].max().value_counts()"
   ]
  },
  {
   "cell_type": "code",
   "execution_count": 8,
   "metadata": {},
   "outputs": [
    {
     "data": {
      "text/plain": [
       "([<matplotlib.axis.XTick at 0x20955041e10>,\n",
       "  <matplotlib.axis.XTick at 0x20955041748>,\n",
       "  <matplotlib.axis.XTick at 0x20955041470>,\n",
       "  <matplotlib.axis.XTick at 0x20955bbd358>,\n",
       "  <matplotlib.axis.XTick at 0x20955bbd7f0>,\n",
       "  <matplotlib.axis.XTick at 0x20955bbdcc0>,\n",
       "  <matplotlib.axis.XTick at 0x20955b9a1d0>,\n",
       "  <matplotlib.axis.XTick at 0x20955b9a6d8>,\n",
       "  <matplotlib.axis.XTick at 0x20955b9abe0>,\n",
       "  <matplotlib.axis.XTick at 0x20955baf160>,\n",
       "  <matplotlib.axis.XTick at 0x20955b9a630>,\n",
       "  <matplotlib.axis.XTick at 0x20955bbd898>,\n",
       "  <matplotlib.axis.XTick at 0x20955baf7b8>,\n",
       "  <matplotlib.axis.XTick at 0x20955bafc18>,\n",
       "  <matplotlib.axis.XTick at 0x20955bac198>,\n",
       "  <matplotlib.axis.XTick at 0x20955bac668>],\n",
       " <a list of 16 Text xticklabel objects>)"
      ]
     },
     "execution_count": 8,
     "metadata": {},
     "output_type": "execute_result"
    },
    {
     "data": {
      "image/png": "[encoded data removed]",
      "text/plain": [
       "<Figure size 432x288 with 1 Axes>"
      ]
     },
     "metadata": {},
     "output_type": "display_data"
    }
   ],
   "source": [
    "# Lets plot the histogram of number of products versus number of customers\n",
    "plt.hist(df.groupby('Customer_code')['Total_products'].max(),bins=np.arange(-0.5,15.5,1))\n",
    "plt.title('frequency of number of products')\n",
    "plt.xlabel(\"Number of products\")\n",
    "plt.ylabel(\"Number of people\")\n",
    "plt.xlim(-0.5, 15.5)\n",
    "plt.xticks(np.arange(16))"
   ]
  },
  {
   "cell_type": "markdown",
   "metadata": {},
   "source": [
    "From the above histogram, we can conclude that there are more than 200,000 customers that are not holding any products in the given period. \n",
    "\n",
    "Since the 200,000 customers are not helpful for us in understanding any purchasing behaviour, and since we already have large volume of data for analysis data is large, we can exclude them from the analysis.\n",
    "\n",
    "Also the maximum number of products, any customer can held is 15. The count of number of people holding the products is maximum when the number of products is 1."
   ]
  },
  {
   "cell_type": "code",
   "execution_count": null,
   "metadata": {},
   "outputs": [],
   "source": [
    "#The len() function returns the number of items in an object.\n"
   ]
  }
 ],
 "metadata": {
  "kernelspec": {
   "display_name": "Python 3",
   "language": "python",
   "name": "python3"
  },
  "language_info": {
   "codemirror_mode": {
    "name": "ipython",
    "version": 3
   },
   "file_extension": ".py",
   "mimetype": "text/x-python",
   "name": "python",
   "nbconvert_exporter": "python",
   "pygments_lexer": "ipython3",
   "version": "3.6.5"
  }
 },
 "nbformat": 4,
 "nbformat_minor": 2
}
